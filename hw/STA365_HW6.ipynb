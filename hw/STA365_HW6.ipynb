{
  "nbformat": 4,
  "nbformat_minor": 0,
  "metadata": {
    "colab": {
      "provenance": []
    },
    "kernelspec": {
      "name": "python3",
      "display_name": "Python 3"
    },
    "language_info": {
      "name": "python"
    }
  },
  "cells": [
    {
      "cell_type": "markdown",
      "source": [
        "# HW6\n",
        "## Umair Hussain\n",
        "### hussa906\n",
        "\n"
      ],
      "metadata": {
        "id": "8raUAp2lbO-l"
      }
    },
    {
      "cell_type": "code",
      "execution_count": 8,
      "metadata": {
        "colab": {
          "base_uri": "https://localhost:8080/"
        },
        "id": "C6ahW6aDKF3L",
        "outputId": "588b9aa3-e4b2-4a96-ccd6-4c866a1016a3"
      },
      "outputs": [
        {
          "output_type": "stream",
          "name": "stdout",
          "text": [
            "      Age   Debt  Married  BankCustomer     Industry Ethnicity  YearsEmployed  \\\n",
            "ID                                                                              \n",
            "1   30.83  0.000        1             1  Industrials     White           1.25   \n",
            "2   58.67  4.460        1             1    Materials     Black           3.04   \n",
            "3   24.50  0.500        1             1    Materials     Black           1.50   \n",
            "4   27.83  1.540        1             1  Industrials     White           3.75   \n",
            "5   20.17  5.625        1             1  Industrials     White           1.71   \n",
            "\n",
            "    PriorDefault  Employed  CreditScore  DriversLicense       Citizen  \\\n",
            "ID                                                                      \n",
            "1              1         1            1               0       ByBirth   \n",
            "2              1         1            6               0       ByBirth   \n",
            "3              1         0            0               0       ByBirth   \n",
            "4              1         1            5               1       ByBirth   \n",
            "5              1         0            0               0  ByOtherMeans   \n",
            "\n",
            "    ZipCode  Income  Approved  \n",
            "ID                             \n",
            "1       202       0         1  \n",
            "2        43     560         1  \n",
            "3       280     824         1  \n",
            "4       100       3         1  \n",
            "5       120       0         1  \n",
            "      Age\n",
            "ID       \n",
            "1   30.83\n",
            "2   58.67\n",
            "3   24.50\n",
            "4   27.83\n",
            "5   20.17\n",
            "    Approved\n",
            "ID          \n",
            "1          1\n",
            "2          1\n",
            "3          1\n",
            "4          1\n",
            "5          1\n"
          ]
        }
      ],
      "source": [
        "import pymc as pm\n",
        "from scipy import stats\n",
        "import pandas as pd\n",
        "import numpy as np\n",
        "import matplotlib.pyplot as plt\n",
        "import random\n",
        "\n",
        "# Load the CSV file into a DataFrame\n",
        "df = pd.read_csv(\"data.csv\", index_col=0)\n",
        "\n",
        "# Print the DataFrame to inspect its structure\n",
        "print(df.head())\n",
        "\n",
        "# Select only the 'Age' column for X\n",
        "X = df[['Age']]\n",
        "\n",
        "# Check the structure of X\n",
        "print(X.head())\n",
        "\n",
        "# Select the 'Approved' column for y\n",
        "y = df[['Approved']]\n",
        "\n",
        "print(y.head())"
      ]
    },
    {
      "cell_type": "code",
      "source": [
        "with pm.Model() as model:\n",
        "    # Standard normal priors for unknown beta parameters\n",
        "    b0 = pm.Normal('b0', mu=0, sigma=1)\n",
        "    b1 = pm.Normal('b1', mu=0, sigma=1)\n",
        "    mu = b0 + b1*X\n",
        "    Y_obs = pm.Bernoulli('Y_obs',logit_p=mu, observed=y)\n",
        "\n",
        "with model:\n",
        "    idata = pm.sample()"
      ],
      "metadata": {
        "colab": {
          "base_uri": "https://localhost:8080/",
          "height": 57
        },
        "id": "PX5apTcRXynJ",
        "outputId": "388dbe61-cf6a-418e-9589-82c4aeeafe46"
      },
      "execution_count": 9,
      "outputs": [
        {
          "output_type": "display_data",
          "data": {
            "text/plain": [
              "<IPython.core.display.HTML object>"
            ],
            "text/html": [
              "\n",
              "<style>\n",
              "    /* Turns off some styling */\n",
              "    progress {\n",
              "        /* gets rid of default border in Firefox and Opera. */\n",
              "        border: none;\n",
              "        /* Needs to be in here for Safari polyfill so background images work as expected. */\n",
              "        background-size: auto;\n",
              "    }\n",
              "    progress:not([value]), progress:not([value])::-webkit-progress-bar {\n",
              "        background: repeating-linear-gradient(45deg, #7e7e7e, #7e7e7e 10px, #5c5c5c 10px, #5c5c5c 20px);\n",
              "    }\n",
              "    .progress-bar-interrupted, .progress-bar-interrupted::-webkit-progress-bar {\n",
              "        background: #F44336;\n",
              "    }\n",
              "</style>\n"
            ]
          },
          "metadata": {}
        },
        {
          "output_type": "display_data",
          "data": {
            "text/plain": [
              "<IPython.core.display.HTML object>"
            ],
            "text/html": [
              "\n",
              "    <div>\n",
              "      <progress value='2000' class='' max='2000' style='width:300px; height:20px; vertical-align: middle;'></progress>\n",
              "      100.00% [2000/2000 00:06&lt;00:00 Sampling chain 0, 0 divergences]\n",
              "    </div>\n",
              "    "
            ]
          },
          "metadata": {}
        },
        {
          "output_type": "display_data",
          "data": {
            "text/plain": [
              "<IPython.core.display.HTML object>"
            ],
            "text/html": [
              "\n",
              "<style>\n",
              "    /* Turns off some styling */\n",
              "    progress {\n",
              "        /* gets rid of default border in Firefox and Opera. */\n",
              "        border: none;\n",
              "        /* Needs to be in here for Safari polyfill so background images work as expected. */\n",
              "        background-size: auto;\n",
              "    }\n",
              "    progress:not([value]), progress:not([value])::-webkit-progress-bar {\n",
              "        background: repeating-linear-gradient(45deg, #7e7e7e, #7e7e7e 10px, #5c5c5c 10px, #5c5c5c 20px);\n",
              "    }\n",
              "    .progress-bar-interrupted, .progress-bar-interrupted::-webkit-progress-bar {\n",
              "        background: #F44336;\n",
              "    }\n",
              "</style>\n"
            ]
          },
          "metadata": {}
        },
        {
          "output_type": "display_data",
          "data": {
            "text/plain": [
              "<IPython.core.display.HTML object>"
            ],
            "text/html": [
              "\n",
              "    <div>\n",
              "      <progress value='2000' class='' max='2000' style='width:300px; height:20px; vertical-align: middle;'></progress>\n",
              "      100.00% [2000/2000 00:05&lt;00:00 Sampling chain 1, 0 divergences]\n",
              "    </div>\n",
              "    "
            ]
          },
          "metadata": {}
        }
      ]
    },
    {
      "cell_type": "markdown",
      "source": [
        "## Part 2"
      ],
      "metadata": {
        "id": "5Hqo_15_gi-G"
      }
    },
    {
      "cell_type": "markdown",
      "source": [
        "Normal Priors for Betas\n",
        "\n",
        "$$\\text{posterior} \\propto \\Pi_{j=1}^N\\frac{1}{\\sqrt{2\\pi}} e^{\\frac{-1}{2}(\\frac{B_j}{s_j})^2} \\cdot \\Pi_{i=1}^N\\frac{1}{\\sqrt{2\\pi}}e^{\\frac{-1}{2}({y_i - x_i^TB})^2}$$\n",
        "$$\\propto \\Pi_{j=1}^Ne^{\\frac{-1}{2}(\\frac{B_j}{s_j})^2} \\cdot \\Pi_{i=1}^Ne^{\\frac{-1}{2}({y_i - x_i^TB})^2}$$\n",
        "\n",
        "$$\\text{Log Posterior} \\propto log(\\Pi_{j=1}^N e^{\\frac{-1}{2}(\\frac{B_j}{s_j})^2} \\cdot \\Pi_{i=1}^Ne^{\\frac{-1}{2}({y_i - x_i^TB})^2})$$\n",
        "$$\\propto log(\\Pi_{j=1}^N e^{\\frac{-1}{2}(\\frac{B_j}{s_j})^2}) + log(\\Pi_{i=1}^Ne^{\\frac{-1}{2}({y_i - x_i^TB})^2})$$\n",
        "\n",
        "$$\\propto \\sum_{j=1}^N\\frac{-1}{2}(\\frac{B_j}{s_j})^2 - \\sum_{i=1}^N\\frac{1}{2}({y_i - x_i^TB})^2$$\n",
        "$$\\propto \\frac{1}{2}\\sum_{i=1}^N({y_i - x_i^TB})^2 + \\frac{1}{2}\\sum_{j=1}^N(\\frac{1}{s_j})^2B_j^2$$\n",
        "\n",
        "This looks like the ridge penalty form in which the terms in $\\frac{1}{s_j}^2$ are simply $\\lambda$"
      ],
      "metadata": {
        "id": "wrI-12QKgsAA"
      }
    },
    {
      "cell_type": "markdown",
      "source": [
        "Laplace Priors for Betas\n",
        "\n",
        "$$\\text{posterior} \\propto \\Pi_{j=1}^N\\frac{1}{2s_j} e^{-\\frac{|B_j|}{s_j}} \\cdot \\Pi_{i=1}^N\\frac{1}{\\sqrt{2\\pi}}e^{\\frac{-1}{2}({y_i - x_i^TB})^2}$$\n",
        "$$\\propto \\Pi_{j=1}^Ne^{-\\frac{|B_j|}{s_j}} \\cdot \\Pi_{i=1}^Ne^{\\frac{-1}{2}({y_i - x_i^TB})^2}$$\n",
        "$$\\text{Log Posterior} \\propto log(\\Pi_{j=1}^N e^{-\\frac{|B_j|}{s_j}} \\cdot \\Pi_{i=1}^N\\frac{1}{\\sqrt{2\\pi}}e^{\\frac{-1}{2}({y_i - x_i^TB})^2})$$\n",
        "$$\\propto log(\\Pi_{j=1}^N e^{-\\frac{|B_j|}{s_j}}) + log(\\Pi_{i=1}^N\\frac{1}{\\sqrt{2\\pi}}e^{\\frac{-1}{2}({y_i - x_i^TB})^2})$$\n",
        "$$\\propto \\sum_{j=1}^N-\\frac{|B_j|}{s_j} - \\sum_{i=1}^N\\frac{1}{2}({y_i - x_i^TB})^2$$\n",
        "$$\\propto \\frac{1}{2}\\sum_{i=1}^N({y_i - x_i^TB})^2 + \\sum_{j=1}^N\\frac{|B_j|}{s_j}$$\n",
        "\n",
        "Looks like lasso penalty form in which the terms $\\frac{1}{s_j}$ are simply $\\lambda$\n",
        "\n",
        "Bayesians do not optimize posterior distributions, they sample from them; but, the posterior distributions are nonetheless 'regularizations' of the likelihood through the prior."
      ],
      "metadata": {
        "id": "I0-sJ8Idqhl8"
      }
    }
  ]
}